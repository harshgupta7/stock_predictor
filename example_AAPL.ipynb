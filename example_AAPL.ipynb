{
 "cells": [
  {
   "cell_type": "code",
   "execution_count": 97,
   "metadata": {},
   "outputs": [],
   "source": [
    "import numpy as np\n",
    "import matplotlib.pyplot as plt\n",
    "import pandas as pd\n",
    "import math\n",
    "import time\n",
    "from datetime import datetime\n",
    "%matplotlib inline\n",
    "\n",
    "from keras.models import Sequential\n",
    "from keras.layers.core import Dense, Activation, Dropout\n",
    "from keras.layers import Dense\n",
    "from keras.layers import LSTM\n",
    "\n",
    "\n",
    "from sklearn import cross_validation\n",
    "from sklearn.metrics import mean_squared_error\n",
    "from sklearn.preprocessing import MinMaxScaler\n"
   ]
  },
  {
   "cell_type": "code",
   "execution_count": 98,
   "metadata": {},
   "outputs": [
    {
     "name": "stdout",
     "output_type": "stream",
     "text": [
      "                 Time   First    Last         Time_nohour\n",
      "0 2008-01-02 09:00:00  198.79  200.16 2008-01-02 09:00:00\n",
      "1 2008-01-02 10:00:00  200.16  198.05 2008-01-02 10:00:00\n",
      "2 2008-01-02 11:00:00  198.05  195.12 2008-01-02 11:00:00\n",
      "3 2008-01-02 12:00:00  195.12  194.47 2008-01-02 12:00:00\n",
      "4 2008-01-02 13:00:00  194.46  194.98 2008-01-02 13:00:00\n",
      "17418\n"
     ]
    }
   ],
   "source": [
    "#load dataset\n",
    "appl_stock = pd.read_csv('AAPL.csv', parse_dates=['Time'])#, engine='python', skipfooter=3)\n",
    "appl_sent = pd.read_json('news/appl_parse.json')\n",
    "print(dataframe.head())\n",
    "print (len(dataframe))\n",
    "\n"
   ]
  },
  {
   "cell_type": "code",
   "execution_count": 99,
   "metadata": {},
   "outputs": [
    {
     "name": "stdout",
     "output_type": "stream",
     "text": [
      "<class 'pandas.tslib.Timestamp'>\n",
      "<class 'pandas.tslib.Timestamp'>\n",
      "   bearish  bearish_percent  bullish  bullish_percent       date  none  total\n",
      "0        0              0.0        4            100.0 2011-01-03   105    109\n",
      "1        0              0.0        2            100.0 2011-01-04    59     61\n",
      "2        0              0.0        1            100.0 2011-01-05    58     59\n",
      "3        0              0.0        1            100.0 2011-01-06    91     92\n",
      "4        0              0.0        2            100.0 2011-01-07    92     94\n"
     ]
    }
   ],
   "source": [
    "print(type(appl_stock['Time'][0]))\n",
    "print(type(appl_sent['date'][0]))\n",
    "print(appl_sent.head())"
   ]
  },
  {
   "cell_type": "code",
   "execution_count": 102,
   "metadata": {},
   "outputs": [
    {
     "name": "stdout",
     "output_type": "stream",
     "text": [
      "0       2008-01-02\n",
      "1       2008-01-02\n",
      "2       2008-01-02\n",
      "3       2008-01-02\n",
      "4       2008-01-02\n",
      "5       2008-01-02\n",
      "6       2008-01-02\n",
      "7       2008-01-02\n",
      "8       2008-01-03\n",
      "9       2008-01-03\n",
      "10      2008-01-03\n",
      "11      2008-01-03\n",
      "12      2008-01-03\n",
      "13      2008-01-03\n",
      "14      2008-01-03\n",
      "15      2008-01-03\n",
      "16      2008-01-04\n",
      "17      2008-01-04\n",
      "18      2008-01-04\n",
      "19      2008-01-04\n",
      "20      2008-01-04\n",
      "21      2008-01-04\n",
      "22      2008-01-04\n",
      "23      2008-01-04\n",
      "24      2008-01-07\n",
      "25      2008-01-07\n",
      "26      2008-01-07\n",
      "27      2008-01-07\n",
      "28      2008-01-07\n",
      "29      2008-01-07\n",
      "           ...    \n",
      "17388   2016-09-07\n",
      "17389   2016-09-07\n",
      "17390   2016-09-07\n",
      "17391   2016-09-07\n",
      "17392   2016-09-07\n",
      "17393   2016-09-07\n",
      "17394   2016-09-08\n",
      "17395   2016-09-08\n",
      "17396   2016-09-08\n",
      "17397   2016-09-08\n",
      "17398   2016-09-08\n",
      "17399   2016-09-08\n",
      "17400   2016-09-08\n",
      "17401   2016-09-08\n",
      "17402   2016-09-09\n",
      "17403   2016-09-09\n",
      "17404   2016-09-09\n",
      "17405   2016-09-09\n",
      "17406   2016-09-09\n",
      "17407   2016-09-09\n",
      "17408   2016-09-09\n",
      "17409   2016-09-09\n",
      "17410   2016-09-12\n",
      "17411   2016-09-12\n",
      "17412   2016-09-12\n",
      "17413   2016-09-12\n",
      "17414   2016-09-12\n",
      "17415   2016-09-12\n",
      "17416   2016-09-12\n",
      "17417   2016-09-12\n",
      "Name: Time_nohour, dtype: datetime64[ns]\n"
     ]
    }
   ],
   "source": [
    "appl_stock['Time_nohour'] = appl_stock['Time'] \n",
    "appl_stock['Time_nohour'] = appl_stock['Time_nohour'].apply((lambda ts: pd.Timestamp(datetime(ts.year, ts.month, ts.day) ))) \n",
    "                                \n",
    "print(appl_stock['Time_nohour'])\n"
   ]
  },
  {
   "cell_type": "code",
   "execution_count": 163,
   "metadata": {},
   "outputs": [],
   "source": [
    "dataframe = appl_stock\n",
    "dataframe_merge = pd.merge(appl_stock, appl_sent, left_on='Time_nohour', right_on='date')\n",
    "#print(dataframe)"
   ]
  },
  {
   "cell_type": "code",
   "execution_count": 164,
   "metadata": {},
   "outputs": [
    {
     "name": "stdout",
     "output_type": "stream",
     "text": [
      "[ 199.475  199.105  196.585 ...,  105.205  105.455  105.445]\n"
     ]
    }
   ],
   "source": [
    "dataset = (0.5*(dataframe['First'] + dataframe['Last'])).values\n",
    "sent_dataset = dataframe_merge['bullish_percent'].values\n",
    "print(dataset)"
   ]
  },
  {
   "cell_type": "code",
   "execution_count": 165,
   "metadata": {},
   "outputs": [
    {
     "name": "stderr",
     "output_type": "stream",
     "text": [
      "/home/dluo/anaconda3/lib/python3.5/site-packages/sklearn/preprocessing/data.py:324: DeprecationWarning: Passing 1d arrays as data is deprecated in 0.17 and will raise ValueError in 0.19. Reshape your data either using X.reshape(-1, 1) if your data has a single feature or X.reshape(1, -1) if it contains a single sample.\n",
      "  warnings.warn(DEPRECATION_MSG_1D, DeprecationWarning)\n",
      "/home/dluo/anaconda3/lib/python3.5/site-packages/sklearn/preprocessing/data.py:359: DeprecationWarning: Passing 1d arrays as data is deprecated in 0.17 and will raise ValueError in 0.19. Reshape your data either using X.reshape(-1, 1) if your data has a single feature or X.reshape(1, -1) if it contains a single sample.\n",
      "  warnings.warn(DEPRECATION_MSG_1D, DeprecationWarning)\n",
      "/home/dluo/anaconda3/lib/python3.5/site-packages/sklearn/preprocessing/data.py:324: DeprecationWarning: Passing 1d arrays as data is deprecated in 0.17 and will raise ValueError in 0.19. Reshape your data either using X.reshape(-1, 1) if your data has a single feature or X.reshape(1, -1) if it contains a single sample.\n",
      "  warnings.warn(DEPRECATION_MSG_1D, DeprecationWarning)\n",
      "/home/dluo/anaconda3/lib/python3.5/site-packages/sklearn/preprocessing/data.py:359: DeprecationWarning: Passing 1d arrays as data is deprecated in 0.17 and will raise ValueError in 0.19. Reshape your data either using X.reshape(-1, 1) if your data has a single feature or X.reshape(1, -1) if it contains a single sample.\n",
      "  warnings.warn(DEPRECATION_MSG_1D, DeprecationWarning)\n"
     ]
    }
   ],
   "source": [
    "scaler = MinMaxScaler(feature_range=(0, 1))\n",
    "sent_scaler =  MinMaxScaler(feature_range=(0, 1))\n",
    "dataset = scaler.fit_transform(dataset)\n",
    "sent_dataset = sent_scaler.fit_transform(sent_dataset)"
   ]
  },
  {
   "cell_type": "code",
   "execution_count": 166,
   "metadata": {
    "scrolled": false
   },
   "outputs": [
    {
     "name": "stdout",
     "output_type": "stream",
     "text": [
      "(17408, 10, 1) (17408,)\n"
     ]
    }
   ],
   "source": [
    "def rnnDataPrep(data, n_prev):\n",
    "    X_data, y_data = [], []\n",
    "    #naive version\n",
    "    for i in range(n_prev, len(data)):#11th entry, previous 10 are kept\n",
    "        X_data.append(data[i - (n_prev):i].tolist())\n",
    "    \n",
    "    X_data = np.array(X_data)\n",
    "    y_data = data[n_prev:]\n",
    "    return np.reshape(X_data, (X_data.shape[0], X_data.shape[1], 1)), np.reshape(y_data, (len(y_data),))\n",
    "\n",
    "def rnnDataPrepSent(data, n_prev):\n",
    "    X_data, y_data = [], []\n",
    "    #naive version\n",
    "    for i in range(n_prev, len(data)):#11th entry, previous 10 are kept\n",
    "        X_data.append(np.append(data[i - (n_prev):i], sent_dataset[i-1]) .tolist())\n",
    "    \n",
    "    X_data = np.array(X_data)\n",
    "    y_data = data[n_prev:]\n",
    "    return np.reshape(X_data, (X_data.shape[0], X_data.shape[1], 1)), np.reshape(y_data, (len(y_data),))\n",
    "    \n",
    "\n",
    "temp_x, temp_y = rnnDataPrep(dataset, 10)\n",
    "#print(temp_x)\n",
    "print (temp_x.shape, temp_y.shape)\n"
   ]
  },
  {
   "cell_type": "code",
   "execution_count": 181,
   "metadata": {},
   "outputs": [
    {
     "name": "stdout",
     "output_type": "stream",
     "text": [
      "17418\n",
      "(10420, 50, 1) (6948, 50, 1)\n",
      "(10420,) (6948,)\n"
     ]
    }
   ],
   "source": [
    "#Splitting data into training and validation\n",
    "\n",
    "\n",
    "ttR = 0.6 #train test Ratio\n",
    "#n = int(ttR * len(dataset))\n",
    "\n",
    "lb = 5 #lb stands for look back, \n",
    "X, y = rnnDataPrep(dataset, lb)\n",
    "n = int(ttR * len(X))\n",
    "#train, test = X#dataset[:int(ttR * len(dataset))], dataset[int(ttR * len(dataset)):] #split chronologically\n",
    "\n",
    "X_train, y_train = X[:n], y[:n]#rnnDataPrep(train, lb)\n",
    "X_test, y_test = X[n:], y[n:]#rnnDataPrep(test, lb)\n",
    "\n",
    "\n",
    "#print(train.shape, test.shape)\n",
    "print(len(dataset))\n",
    "print(X_train.shape, X_test.shape)\n",
    "print(y_train.shape, y_test.shape)\n"
   ]
  },
  {
   "cell_type": "code",
   "execution_count": 182,
   "metadata": {},
   "outputs": [
    {
     "name": "stdout",
     "output_type": "stream",
     "text": [
      "Compilation Time :  0.00875091552734375\n",
      "Epoch 1/10\n",
      "66s - loss: 0.0012\n",
      "Epoch 2/10\n",
      "66s - loss: 3.1844e-05\n",
      "Epoch 3/10\n",
      "66s - loss: 2.9220e-05\n",
      "Epoch 4/10\n",
      "66s - loss: 2.7272e-05\n",
      "Epoch 5/10\n",
      "66s - loss: 2.5529e-05\n",
      "Epoch 6/10\n",
      "66s - loss: 2.4187e-05\n",
      "Epoch 7/10\n",
      "65s - loss: 2.2866e-05\n",
      "Epoch 8/10\n",
      "66s - loss: 2.1538e-05\n",
      "Epoch 9/10\n",
      "65s - loss: 2.0717e-05\n",
      "Epoch 10/10\n",
      "66s - loss: 2.0019e-05\n"
     ]
    },
    {
     "data": {
      "text/plain": [
       "<keras.callbacks.History at 0x7f0156c9df60>"
      ]
     },
     "execution_count": 182,
     "metadata": {},
     "output_type": "execute_result"
    }
   ],
   "source": [
    "# create and fit the LSTM network\n",
    "\n",
    "def build_model_multilayer():\n",
    "    model = Sequential()\n",
    "    layers = [1, 50, 100, 1]\n",
    "\n",
    "    model.add(LSTM(\n",
    "        input_dim=layers[0],\n",
    "        output_dim=layers[1],\n",
    "        return_sequences=True))\n",
    "    model.add(Dropout(0.2))\n",
    "\n",
    "    model.add(LSTM(\n",
    "        layers[2],\n",
    "        return_sequences=False))\n",
    "    model.add(Dropout(0.2))\n",
    "\n",
    "    model.add(Dense(\n",
    "        output_dim=layers[3]))\n",
    "    model.add(Activation(\"linear\"))\n",
    "\n",
    "    start = time.time()\n",
    "    model.compile(loss=\"mse\", optimizer=\"rmsprop\")\n",
    "    print (\"Compilation Time : \", time.time() - start)\n",
    "    return model\n",
    "\n",
    "def build_model_unilayer():\n",
    "    model = Sequential()\n",
    "    model.add(LSTM(input_dim=1, output_dim=4))\n",
    "    model.add(Dense(output_dim=1))\n",
    "    start = time.time()\n",
    "    model.compile(loss=\"mse\", optimizer=\"rmsprop\")\n",
    "    print (\"Compilation Time : \", time.time() - start)\n",
    "    return model\n",
    "    \n",
    "model_unilayer = build_model_unilayer()\n",
    "model_unilayer.fit(X_train, y_train, nb_epoch=10, batch_size=1, verbose=2)\n"
   ]
  },
  {
   "cell_type": "code",
   "execution_count": 183,
   "metadata": {},
   "outputs": [
    {
     "name": "stdout",
     "output_type": "stream",
     "text": [
      "baseline test score = 99.90 RMSE\n",
      "train score = 81.15 RMSE\n",
      "test score = 85.45 RMSE\n"
     ]
    }
   ],
   "source": [
    "baseline_testScore = scaler.inverse_transform(np.array([[mean_squared_error(y_test[10:], y_test[:-10])**.5]]))\n",
    "\n",
    "trainScore = scaler.inverse_transform(np.array([[model_unilayer.evaluate(X_train, y_train, verbose=0)**.5]]))\n",
    "testScore = scaler.inverse_transform(np.array([[model_unilayer.evaluate(X_test, y_test, verbose=0)**.5]]))\n",
    "\n",
    "print('baseline test score = %.2f RMSE' % baseline_testScore)\n",
    "print('train score = %.2f RMSE' % trainScore)\n",
    "print('test score = %.2f RMSE' % testScore)"
   ]
  },
  {
   "cell_type": "code",
   "execution_count": 202,
   "metadata": {},
   "outputs": [
    {
     "name": "stdout",
     "output_type": "stream",
     "text": [
      "11062 11062\n"
     ]
    }
   ],
   "source": [
    "#PURE SENT FITTING\n",
    "sent_lb = 1\n",
    "\n",
    "X_sent, y_sent = rnnDataPrep(sent_dataset, sent_lb)[0], 0.5*(dataframe_merge['First'] + dataframe_merge['Last'])[1:]\n",
    "n = int(ttR * len(X_sent))\n",
    "#train, test = X_sent#dataset[:int(ttR * len(dataset))], dataset[int(ttR * len(dataset)):] #split chronologically_sent\n",
    "print(len(X_sent), len(y_sent))\n",
    "X_sent_train, y_sent_train = X_sent[:n], y_sent[:n]\n",
    "X_sent_test, y_sent_test = X_sent[n:], y_sent[n:]\n"
   ]
  },
  {
   "cell_type": "code",
   "execution_count": 203,
   "metadata": {},
   "outputs": [
    {
     "name": "stdout",
     "output_type": "stream",
     "text": [
      "Compilation Time :  0.007627964019775391\n",
      "Epoch 1/50\n",
      "8s - loss: 231361.2569\n",
      "Epoch 2/50\n",
      "8s - loss: 207111.0270\n",
      "Epoch 3/50\n",
      "8s - loss: 184664.4547\n",
      "Epoch 4/50\n",
      "8s - loss: 163633.4807\n",
      "Epoch 5/50\n",
      "7s - loss: 143998.5509\n",
      "Epoch 6/50\n",
      "7s - loss: 125845.6603\n",
      "Epoch 7/50\n",
      "7s - loss: 109127.0095\n",
      "Epoch 8/50\n",
      "8s - loss: 93840.8922\n",
      "Epoch 9/50\n",
      "7s - loss: 79923.0186\n",
      "Epoch 10/50\n",
      "7s - loss: 67484.9643\n",
      "Epoch 11/50\n",
      "7s - loss: 56451.1796\n",
      "Epoch 12/50\n",
      "8s - loss: 46768.2151\n",
      "Epoch 13/50\n",
      "8s - loss: 38498.9857\n",
      "Epoch 14/50\n",
      "8s - loss: 31503.6361\n",
      "Epoch 15/50\n",
      "8s - loss: 25810.9666\n",
      "Epoch 16/50\n",
      "9s - loss: 21300.6429\n",
      "Epoch 17/50\n",
      "7s - loss: 17867.5579\n",
      "Epoch 18/50\n",
      "7s - loss: 15353.8566\n",
      "Epoch 19/50\n",
      "7s - loss: 13591.4129\n",
      "Epoch 20/50\n",
      "7s - loss: 12401.3569\n",
      "Epoch 21/50\n",
      "7s - loss: 11626.1570\n",
      "Epoch 22/50\n",
      "7s - loss: 11132.0916\n",
      "Epoch 23/50\n",
      "7s - loss: 10822.8149\n",
      "Epoch 24/50\n",
      "7s - loss: 10632.7043\n",
      "Epoch 25/50\n",
      "7s - loss: 10514.5796\n",
      "Epoch 26/50\n",
      "7s - loss: 10444.1672\n",
      "Epoch 27/50\n",
      "7s - loss: 10400.3785\n",
      "Epoch 28/50\n",
      "7s - loss: 10374.5415\n",
      "Epoch 29/50\n",
      "7s - loss: 10359.2051\n",
      "Epoch 30/50\n",
      "7s - loss: 10349.8015\n",
      "Epoch 31/50\n",
      "8s - loss: 10344.3984\n",
      "Epoch 32/50\n",
      "8s - loss: 10341.4403\n",
      "Epoch 33/50\n",
      "9s - loss: 10339.5896\n",
      "Epoch 34/50\n",
      "8s - loss: 10338.2768\n",
      "Epoch 35/50\n",
      "8s - loss: 10337.8047\n",
      "Epoch 36/50\n",
      "9s - loss: 10337.8233\n",
      "Epoch 37/50\n",
      "8s - loss: 10337.3543\n",
      "Epoch 38/50\n",
      "9s - loss: 10337.7083\n",
      "Epoch 39/50\n",
      "9s - loss: 10337.4163\n",
      "Epoch 40/50\n",
      "8s - loss: 10337.5410\n",
      "Epoch 41/50\n",
      "8s - loss: 10337.6658\n",
      "Epoch 42/50\n",
      "10s - loss: 10337.7773\n",
      "Epoch 43/50\n",
      "9s - loss: 10337.9678\n",
      "Epoch 44/50\n",
      "8s - loss: 10337.5585\n",
      "Epoch 45/50\n",
      "7s - loss: 10337.9103\n",
      "Epoch 46/50\n",
      "9s - loss: 10337.8827\n",
      "Epoch 47/50\n",
      "9s - loss: 10337.8443\n",
      "Epoch 48/50\n",
      "7s - loss: 10337.7398\n",
      "Epoch 49/50\n",
      "10s - loss: 10337.8029\n",
      "Epoch 50/50\n",
      "9s - loss: 10337.8270\n"
     ]
    },
    {
     "data": {
      "text/plain": [
       "<keras.callbacks.History at 0x7f014a9e4e10>"
      ]
     },
     "execution_count": 203,
     "metadata": {},
     "output_type": "execute_result"
    }
   ],
   "source": [
    "model_sent = build_model_unilayer()\n",
    "\n",
    "model_sent.fit(X_sent_train, y_sent_train, nb_epoch=50, batch_size=1, verbose=2)"
   ]
  },
  {
   "cell_type": "code",
   "execution_count": 204,
   "metadata": {},
   "outputs": [
    {
     "name": "stdout",
     "output_type": "stream",
     "text": [
      "baseline test score = 51.58 RMSE\n",
      "train score = 10167.32 RMSE\n",
      "test score = 37334.57 RMSE\n"
     ]
    }
   ],
   "source": [
    "#===============================================================\n",
    "\n",
    "baseline_testScore = sent_scaler.inverse_transform(np.array([[mean_squared_error(y_sent_test[1:], y_sent_test[:-1])**.5]]))\n",
    "\n",
    "trainScore = sent_scaler.inverse_transform(np.array([[model_sent.evaluate(X_sent_train, y_sent_train, verbose=0)**.5]]))\n",
    "testScore = sent_scaler.inverse_transform(np.array([[model_sent.evaluate(X_sent_test, y_sent_test, verbose=0)**.5]]))\n",
    "\n",
    "print('baseline test score = %.2f RMSE' % baseline_testScore)\n",
    "print('train score = %.2f RMSE' % trainScore)\n",
    "print('test score = %.2f RMSE' % testScore)"
   ]
  },
  {
   "cell_type": "code",
   "execution_count": 172,
   "metadata": {},
   "outputs": [],
   "source": [
    "# generate predictions for training\n",
    "y_train_pred = model_unilayer.predict(X_train)\n",
    "y_test_pred = model_unilayer.predict(X_test)\n",
    "\n",
    "y_sent_train_pred = model_sent.predict(X_sent_train)\n",
    "y_sent_test_pred = model_sent.predict(X_sent_test)"
   ]
  },
  {
   "cell_type": "code",
   "execution_count": 180,
   "metadata": {},
   "outputs": [
    {
     "data": {
      "text/plain": [
       "[<matplotlib.lines.Line2D at 0x7f0151ed4d30>]"
      ]
     },
     "execution_count": 180,
     "metadata": {},
     "output_type": "execute_result"
    },
    {
     "data": {
      "image/png": "[encoded data removed]",
      "text/plain": [
       "<matplotlib.figure.Figure at 0x7f0151f01780>"
      ]
     },
     "metadata": {},
     "output_type": "display_data"
    }
   ],
   "source": [
    "nn = 1000\n",
    "\n",
    "plt.figure(figsize=(13, 6))\n",
    "\n",
    "plt.plot(dataframe_merge['Time'][3:][-nn:], sent_dataset[3:][-nn:]/20, color='red')\n",
    "#plt.plot(dataframe_merge['Time'][3:][-nn:], y_sent_test_pred[3:][-nn:]/20, color='purple')\n",
    "\n",
    "plt.plot(dataframe['Time'][3:][-nn:], np.append(y_train, y_test)[-nn:], '-', ms=5, color='blue')\n",
    "#plt.plot(dataframe['Time'][3:][:n], y_train_pred, 'r')\n",
    "plt.plot(dataframe['Time'][3:][n:][-nn:], y_test_pred[-nn:], '-', ms=5, color='green')\n",
    "\n",
    "#plt.plot(dataframe['Time'][3:][n:][-nn:], y_sent_test_pred[-nn:], '-', ms=5, color='red')"
   ]
  },
  {
   "cell_type": "code",
   "execution_count": null,
   "metadata": {
    "collapsed": true
   },
   "outputs": [],
   "source": []
  }
 ],
 "metadata": {
  "anaconda-cloud": {},
  "kernelspec": {
   "display_name": "Python 2",
   "language": "python",
   "name": "python2"
  },
  "language_info": {
   "codemirror_mode": {
    "name": "ipython",
    "version": 2
   },
   "file_extension": ".py",
   "mimetype": "text/x-python",
   "name": "python",
   "nbconvert_exporter": "python",
   "pygments_lexer": "ipython2",
   "version": "2.7.13"
  }
 },
 "nbformat": 4,
 "nbformat_minor": 1
}
