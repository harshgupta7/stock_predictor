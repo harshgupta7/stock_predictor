{
 "cells": [
  {
   "cell_type": "code",
   "execution_count": 14,
   "metadata": {
    "collapsed": true
   },
   "outputs": [],
   "source": [
    "import numpy as np\n",
    "import matplotlib.pyplot as plt\n",
    "import pandas as pd\n",
    "import math\n",
    "import time\n",
    "from datetime import datetime\n",
    "%matplotlib inline\n",
    "\n",
    "from keras.models import Sequential\n",
    "from keras.layers.core import Dense, Activation, Dropout\n",
    "from keras.layers import Dense\n",
    "from keras.layers import LSTM\n",
    "\n",
    "\n",
    "from sklearn import cross_validation\n",
    "from sklearn.metrics import mean_squared_error\n",
    "from sklearn.preprocessing import MinMaxScaler\n"
   ]
  },
  {
   "cell_type": "code",
   "execution_count": 23,
   "metadata": {
    "collapsed": true
   },
   "outputs": [],
   "source": [
    "#load dataset\n",
    "sent = pd.read_json('news/fb_parse.json')\n",
    "stock = pd.read_json('nasdaq_data/FB.json', convert_dates=['Time'])#, engine='python')#, skipfooter=3)\n"
   ]
  },
  {
   "cell_type": "code",
   "execution_count": 24,
   "metadata": {},
   "outputs": [
    {
     "name": "stdout",
     "output_type": "stream",
     "text": [
      "2012-06-01 09:00:00\n",
      "2011-01-09 00:00:00\n",
      "   bearish  bearish_percent  bullish  bullish_percent       date  none  total\n",
      "0        0              0.0        1            100.0 2011-01-09     7      8\n",
      "1        0              0.0        1            100.0 2012-02-02   244    245\n",
      "2        0              0.0        1            100.0 2012-02-03   104    105\n",
      "3        0              0.0        1            100.0 2012-02-05    16     17\n",
      "4        0              0.0        1            100.0 2012-02-08    40     41\n"
     ]
    }
   ],
   "source": [
    "print((stock['Time'][0]))\n",
    "print((sent['date'][0]))\n",
    "print(sent.head())\n"
   ]
  },
  {
   "cell_type": "code",
   "execution_count": 25,
   "metadata": {},
   "outputs": [
    {
     "name": "stdout",
     "output_type": "stream",
     "text": [
      "0      2012-06-01\n",
      "1      2012-06-01\n",
      "2      2012-06-01\n",
      "3      2012-06-01\n",
      "4      2012-06-01\n",
      "5      2012-06-01\n",
      "6      2012-06-01\n",
      "7      2012-06-01\n",
      "8      2012-06-04\n",
      "9      2012-06-04\n",
      "10     2012-06-04\n",
      "11     2012-06-04\n",
      "12     2012-06-04\n",
      "13     2012-06-04\n",
      "14     2012-06-04\n",
      "15     2012-06-04\n",
      "16     2012-06-05\n",
      "17     2012-06-05\n",
      "18     2012-06-05\n",
      "19     2012-06-05\n",
      "20     2012-06-05\n",
      "21     2012-06-05\n",
      "22     2012-06-05\n",
      "23     2012-06-05\n",
      "24     2012-06-06\n",
      "25     2012-06-06\n",
      "26     2012-06-06\n",
      "27     2012-06-06\n",
      "28     2012-06-06\n",
      "29     2012-06-06\n",
      "          ...    \n",
      "8583   2016-09-13\n",
      "8584   2016-09-13\n",
      "8585   2016-09-13\n",
      "8586   2016-09-13\n",
      "8587   2016-09-13\n",
      "8588   2016-09-13\n",
      "8589   2016-09-14\n",
      "8590   2016-09-14\n",
      "8591   2016-09-14\n",
      "8592   2016-09-14\n",
      "8593   2016-09-14\n",
      "8594   2016-09-14\n",
      "8595   2016-09-14\n",
      "8596   2016-09-14\n",
      "8597   2016-09-15\n",
      "8598   2016-09-15\n",
      "8599   2016-09-15\n",
      "8600   2016-09-15\n",
      "8601   2016-09-15\n",
      "8602   2016-09-15\n",
      "8603   2016-09-15\n",
      "8604   2016-09-15\n",
      "8605   2016-09-16\n",
      "8606   2016-09-16\n",
      "8607   2016-09-16\n",
      "8608   2016-09-16\n",
      "8609   2016-09-16\n",
      "8610   2016-09-16\n",
      "8611   2016-09-16\n",
      "8612   2016-09-16\n",
      "Name: Time_nohour, dtype: datetime64[ns]\n"
     ]
    }
   ],
   "source": [
    "stock['Time_nohour'] = stock['Time'] \n",
    "stock['Time_nohour'] = stock['Time_nohour'].apply((lambda ts: pd.Timestamp(datetime(ts.year, ts.month, ts.day) ))) \n",
    "                                \n",
    "print(stock['Time_nohour'])\n"
   ]
  },
  {
   "cell_type": "code",
   "execution_count": 26,
   "metadata": {
    "collapsed": true
   },
   "outputs": [],
   "source": [
    "dataframe = stock\n",
    "dataframe_merge = pd.merge(stock, sent, left_on='Time_nohour', right_on='date')\n",
    "#print(dataframe)"
   ]
  },
  {
   "cell_type": "code",
   "execution_count": 27,
   "metadata": {},
   "outputs": [
    {
     "name": "stdout",
     "output_type": "stream",
     "text": [
      "[  28.51    28.205   27.97  ...,  128.545  128.825  129.065]\n"
     ]
    }
   ],
   "source": [
    "dataset = (0.5*(dataframe['First'] + dataframe['Last'])).values\n",
    "sent_dataset = dataframe_merge['bullish_percent'].values\n",
    "print(dataset)"
   ]
  },
  {
   "cell_type": "code",
   "execution_count": 28,
   "metadata": {},
   "outputs": [
    {
     "name": "stderr",
     "output_type": "stream",
     "text": [
      "/home/dluo/anaconda3/lib/python3.5/site-packages/sklearn/preprocessing/data.py:324: DeprecationWarning: Passing 1d arrays as data is deprecated in 0.17 and will raise ValueError in 0.19. Reshape your data either using X.reshape(-1, 1) if your data has a single feature or X.reshape(1, -1) if it contains a single sample.\n",
      "  warnings.warn(DEPRECATION_MSG_1D, DeprecationWarning)\n",
      "/home/dluo/anaconda3/lib/python3.5/site-packages/sklearn/preprocessing/data.py:359: DeprecationWarning: Passing 1d arrays as data is deprecated in 0.17 and will raise ValueError in 0.19. Reshape your data either using X.reshape(-1, 1) if your data has a single feature or X.reshape(1, -1) if it contains a single sample.\n",
      "  warnings.warn(DEPRECATION_MSG_1D, DeprecationWarning)\n",
      "/home/dluo/anaconda3/lib/python3.5/site-packages/sklearn/preprocessing/data.py:324: DeprecationWarning: Passing 1d arrays as data is deprecated in 0.17 and will raise ValueError in 0.19. Reshape your data either using X.reshape(-1, 1) if your data has a single feature or X.reshape(1, -1) if it contains a single sample.\n",
      "  warnings.warn(DEPRECATION_MSG_1D, DeprecationWarning)\n",
      "/home/dluo/anaconda3/lib/python3.5/site-packages/sklearn/preprocessing/data.py:359: DeprecationWarning: Passing 1d arrays as data is deprecated in 0.17 and will raise ValueError in 0.19. Reshape your data either using X.reshape(-1, 1) if your data has a single feature or X.reshape(1, -1) if it contains a single sample.\n",
      "  warnings.warn(DEPRECATION_MSG_1D, DeprecationWarning)\n"
     ]
    }
   ],
   "source": [
    "scaler = MinMaxScaler(feature_range=(0, 1))\n",
    "sent_scaler =  MinMaxScaler(feature_range=(0, 1))\n",
    "dataset = scaler.fit_transform(dataset)\n",
    "sent_dataset = sent_scaler.fit_transform(sent_dataset)"
   ]
  },
  {
   "cell_type": "code",
   "execution_count": 29,
   "metadata": {
    "scrolled": false
   },
   "outputs": [
    {
     "name": "stdout",
     "output_type": "stream",
     "text": [
      "(8603, 10, 1) (8603,)\n"
     ]
    }
   ],
   "source": [
    "def rnnDataPrep(data, n_prev):\n",
    "    X_data, y_data = [], []\n",
    "    #naive version\n",
    "    for i in range(n_prev, len(data)):#11th entry, previous 10 are kept\n",
    "        X_data.append(data[i - (n_prev):i].tolist())\n",
    "    \n",
    "    X_data = np.array(X_data)\n",
    "    y_data = data[n_prev:]\n",
    "    return np.reshape(X_data, (X_data.shape[0], X_data.shape[1], 1)), np.reshape(y_data, (len(y_data),))\n",
    "\n",
    "def rnnDataPrepSent(data, n_prev):\n",
    "    X_data, y_data = [], []\n",
    "    #naive version\n",
    "    for i in range(n_prev, len(data)):#11th entry, previous 10 are kept\n",
    "        X_data.append(np.append(data[i - (n_prev):i], sent_dataset[i-1]) .tolist())\n",
    "    \n",
    "    X_data = np.array(X_data)\n",
    "    y_data = data[n_prev:]\n",
    "    return np.reshape(X_data, (X_data.shape[0], X_data.shape[1], 1)), np.reshape(y_data, (len(y_data),))\n",
    "    \n",
    "\n",
    "temp_x, temp_y = rnnDataPrep(dataset, 10)\n",
    "#print(temp_x)\n",
    "print (temp_x.shape, temp_y.shape)\n"
   ]
  },
  {
   "cell_type": "code",
   "execution_count": 30,
   "metadata": {},
   "outputs": [
    {
     "name": "stdout",
     "output_type": "stream",
     "text": [
      "8613\n",
      "(5164, 5, 1) (3444, 5, 1)\n",
      "(5164,) (3444,)\n"
     ]
    }
   ],
   "source": [
    "#Splitting data into training and validation\n",
    "\n",
    "\n",
    "ttR = 0.6 #train test Ratio\n",
    "#n = int(ttR * len(dataset))\n",
    "\n",
    "lb = 5 #lb stands for look back, \n",
    "X, y = rnnDataPrep(dataset, lb)\n",
    "n = int(ttR * len(X))\n",
    "#train, test = X#dataset[:int(ttR * len(dataset))], dataset[int(ttR * len(dataset)):] #split chronologically\n",
    "\n",
    "X_train, y_train = X[:n], y[:n]#rnnDataPrep(train, lb)\n",
    "X_test, y_test = X[n:], y[n:]#rnnDataPrep(test, lb)\n",
    "\n",
    "\n",
    "#print(train.shape, test.shape)\n",
    "print(len(dataset))\n",
    "print(X_train.shape, X_test.shape)\n",
    "print(y_train.shape, y_test.shape)\n"
   ]
  },
  {
   "cell_type": "code",
   "execution_count": 32,
   "metadata": {},
   "outputs": [
    {
     "name": "stdout",
     "output_type": "stream",
     "text": [
      "Compilation Time :  0.004864931106567383\n",
      "Epoch 1/20\n",
      "7s - loss: 0.0027\n",
      "Epoch 2/20\n",
      "7s - loss: 4.0945e-05\n",
      "Epoch 3/20\n",
      "7s - loss: 3.2460e-05\n",
      "Epoch 4/20\n",
      "7s - loss: 2.7412e-05\n",
      "Epoch 5/20\n",
      "7s - loss: 2.4789e-05\n",
      "Epoch 6/20\n",
      "7s - loss: 2.1180e-05\n",
      "Epoch 7/20\n",
      "7s - loss: 1.9609e-05\n",
      "Epoch 8/20\n",
      "7s - loss: 1.8291e-05\n",
      "Epoch 9/20\n",
      "7s - loss: 1.6980e-05\n",
      "Epoch 10/20\n",
      "7s - loss: 1.6072e-05\n",
      "Epoch 11/20\n",
      "7s - loss: 1.5347e-05\n",
      "Epoch 12/20\n",
      "7s - loss: 1.4887e-05\n",
      "Epoch 13/20\n",
      "7s - loss: 1.4634e-05\n",
      "Epoch 14/20\n",
      "7s - loss: 1.4281e-05\n",
      "Epoch 15/20\n",
      "8s - loss: 1.4003e-05\n",
      "Epoch 16/20\n",
      "8s - loss: 1.3987e-05\n",
      "Epoch 17/20\n",
      "7s - loss: 1.3929e-05\n",
      "Epoch 18/20\n",
      "7s - loss: 1.3875e-05\n",
      "Epoch 19/20\n",
      "7s - loss: 1.3757e-05\n",
      "Epoch 20/20\n",
      "7s - loss: 1.3740e-05\n"
     ]
    },
    {
     "data": {
      "text/plain": [
       "<keras.callbacks.History at 0x7f1ba4dda630>"
      ]
     },
     "execution_count": 32,
     "metadata": {},
     "output_type": "execute_result"
    }
   ],
   "source": [
    "# create and fit the LSTM network\n",
    "\n",
    "def build_model_multilayer():\n",
    "    model = Sequential()\n",
    "    layers = [1, 50, 100, 1]\n",
    "\n",
    "    model.add(LSTM(\n",
    "        input_dim=layers[0],\n",
    "        output_dim=layers[1],\n",
    "        return_sequences=True))\n",
    "    model.add(Dropout(0.2))\n",
    "\n",
    "    model.add(LSTM(\n",
    "        layers[2],\n",
    "        return_sequences=False))\n",
    "    model.add(Dropout(0.2))\n",
    "\n",
    "    model.add(Dense(\n",
    "        output_dim=layers[3]))\n",
    "    model.add(Activation(\"linear\"))\n",
    "\n",
    "    start = time.time()\n",
    "    model.compile(loss=\"mse\", optimizer=\"rmsprop\")\n",
    "    print (\"Compilation Time : \", time.time() - start)\n",
    "    return model\n",
    "\n",
    "def build_model_unilayer():\n",
    "    model = Sequential()\n",
    "    model.add(LSTM(input_dim=1, output_dim=4))\n",
    "    model.add(Dense(output_dim=1))\n",
    "    start = time.time()\n",
    "    model.compile(loss=\"mse\", optimizer=\"rmsprop\")\n",
    "    print (\"Compilation Time : \", time.time() - start)\n",
    "    return model\n",
    "    \n",
    "model_unilayer = build_model_unilayer()\n",
    "model_unilayer.fit(X_train, y_train, nb_epoch=20, batch_size=1, verbose=2)\n"
   ]
  },
  {
   "cell_type": "code",
   "execution_count": 33,
   "metadata": {},
   "outputs": [
    {
     "name": "stdout",
     "output_type": "stream",
     "text": [
      "baseline test score = 19.64 RMSE\n",
      "train score = 18.15 RMSE\n",
      "test score = 19.04 RMSE\n"
     ]
    }
   ],
   "source": [
    "baseline_testScore = scaler.inverse_transform(np.array([[mean_squared_error(y_test[10:], y_test[:-10])**.5]]))\n",
    "\n",
    "trainScore = scaler.inverse_transform(np.array([[model_unilayer.evaluate(X_train, y_train, verbose=0)**.5]]))\n",
    "testScore = scaler.inverse_transform(np.array([[model_unilayer.evaluate(X_test, y_test, verbose=0)**.5]]))\n",
    "\n",
    "print('baseline test score = %.2f RMSE' % baseline_testScore)\n",
    "print('train score = %.2f RMSE' % trainScore)\n",
    "print('test score = %.2f RMSE' % testScore)"
   ]
  },
  {
   "cell_type": "code",
   "execution_count": 186,
   "metadata": {
    "collapsed": true
   },
   "outputs": [],
   "source": [
    "#PURE SENT FITTING\n",
    "sent_lb = 1\n",
    "\n",
    "X_sent, y_sent = rnnDataPrep(sent_dataset, sent_lb)[0], 0.5*(dataframe_merge['First'] + dataframe_merge['Last'])\n",
    "n = int(ttR * len(X_sent))\n",
    "#train, test = X_sent#dataset[:int(ttR * len(dataset))], dataset[int(ttR * len(dataset)):] #split chronologically_sent\n",
    "\n",
    "X_sent_train, y_sent_train = X_sent[:n], y_sent[:n]\n",
    "X_sent_test, y_sent_test = X_sent[n:], y_sent[n:]\n"
   ]
  },
  {
   "cell_type": "code",
   "execution_count": null,
   "metadata": {},
   "outputs": [
    {
     "name": "stdout",
     "output_type": "stream",
     "text": [
      "Compilation Time :  0.009747743606567383\n",
      "Epoch 1/50\n",
      "11s - loss: 230590.3747\n",
      "Epoch 2/50\n",
      "12s - loss: 206262.0136\n",
      "Epoch 3/50\n"
     ]
    }
   ],
   "source": [
    "model_sent = build_model_unilayer()\n",
    "\n",
    "model_sent.fit(X_sent_train, y_sent_train, nb_epoch=50, batch_size=1, verbose=2)"
   ]
  },
  {
   "cell_type": "code",
   "execution_count": 34,
   "metadata": {
    "collapsed": true
   },
   "outputs": [],
   "source": [
    "# generate predictions for training\n",
    "y_train_pred = model_unilayer.predict(X_train)\n",
    "y_test_pred = model_unilayer.predict(X_test)\n",
    "\n",
    "#y_sent_train_pred = model_sent.predict(X_sent_train)\n",
    "#y_sent_test_pred = model_sent.predict(X_sent_test)"
   ]
  },
  {
   "cell_type": "code",
   "execution_count": 36,
   "metadata": {},
   "outputs": [
    {
     "data": {
      "text/plain": [
       "[<matplotlib.lines.Line2D at 0x7f1b9ff5bfd0>]"
      ]
     },
     "execution_count": 36,
     "metadata": {},
     "output_type": "execute_result"
    },
    {
     "data": {
      "image/png": "[encoded data removed]",
      "text/plain": [
       "<matplotlib.figure.Figure at 0x7f1ba2468e80>"
      ]
     },
     "metadata": {},
     "output_type": "display_data"
    }
   ],
   "source": [
    "nn = 1000\n",
    "\n",
    "plt.figure(figsize=(13, 6))\n",
    "\n",
    "plt.plot(dataframe_merge['Time'][3:][-nn:], sent_dataset[3:][-nn:], color='red')\n",
    "#plt.plot(dataframe_merge['Time'][3:][-nn:], y_sent_test_pred[3:][-nn:]/20, color='purple')\n",
    "\n",
    "plt.plot(dataframe['Time'][3:][-nn:], np.append(y_train, y_test)[-nn:], '-', ms=5, color='blue')\n",
    "#plt.plot(dataframe['Time'][3:][:n], y_train_pred, 'r')\n",
    "plt.plot(dataframe['Time'][3:][n:][-nn:], y_test_pred[-nn:], '-', ms=5, color='green')\n",
    "\n",
    "#plt.plot(dataframe['Time'][3:][n:][-nn:], y_sent_test_pred[-nn:], '-', ms=5, color='red')"
   ]
  },
  {
   "cell_type": "code",
   "execution_count": null,
   "metadata": {
    "collapsed": true
   },
   "outputs": [],
   "source": []
  }
 ],
 "metadata": {
  "anaconda-cloud": {},
  "kernelspec": {
   "display_name": "Python 2",
   "language": "python",
   "name": "python2"
  },
  "language_info": {
   "codemirror_mode": {
    "name": "ipython",
    "version": 2
   },
   "file_extension": ".py",
   "mimetype": "text/x-python",
   "name": "python",
   "nbconvert_exporter": "python",
   "pygments_lexer": "ipython2",
   "version": "2.7.13"
  }
 },
 "nbformat": 4,
 "nbformat_minor": 1
}
